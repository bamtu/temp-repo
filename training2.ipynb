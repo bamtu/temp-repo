{
 "cells": [
  {
   "cell_type": "code",
   "execution_count": 16,
   "id": "09fb570f",
   "metadata": {},
   "outputs": [
    {
     "name": "stderr",
     "output_type": "stream",
     "text": [
      "2022-10-12 17:37:39.491863: W tensorflow/stream_executor/platform/default/dso_loader.cc:64] Could not load dynamic library 'libcudart.so.11.0'; dlerror: libcudart.so.11.0: cannot open shared object file: No such file or directory\n",
      "2022-10-12 17:37:39.491891: I tensorflow/stream_executor/cuda/cudart_stub.cc:29] Ignore above cudart dlerror if you do not have a GPU set up on your machine.\n"
     ]
    }
   ],
   "source": [
    "import pandas as pd\n",
    "import numpy as np\n",
    "from sklearn.preprocessing import MinMaxScaler\n",
    "import matplotlib.pyplot as plt\n",
    "import tensorflow as tf\n",
    "import os\n",
    "from sklearn.metrics import mean_squared_error, mean_absolute_error\n",
    "from sklearn.model_selection import train_test_split\n",
    "import re\n",
    "import joblib\n",
    "\n",
    "\n",
    "def rmse(y, pred):\n",
    "    return np.sqrt(mean_squared_error(y, pred))"
   ]
  },
  {
   "cell_type": "code",
   "execution_count": 17,
   "id": "3217507d",
   "metadata": {},
   "outputs": [],
   "source": [
    "df = pd.read_csv(\"data/training_data/preprocessed_180_1.csv\")"
   ]
  },
  {
   "cell_type": "code",
   "execution_count": 24,
   "id": "3b9a9b4c",
   "metadata": {},
   "outputs": [],
   "source": [
    "y_target = df['Dindex']\n",
    "X_features = df.drop(['Dindex', 'Unnamed: 0', 'Unnamed: 0.2'], axis=1, inplace=False)\n",
    "\n",
    "X_train, X_val, y_train, y_val = train_test_split(X_features, y_target, test_size=0.3, random_state=0)"
   ]
  },
  {
   "cell_type": "code",
   "execution_count": 20,
   "id": "0067d1c6",
   "metadata": {},
   "outputs": [],
   "source": [
    "def transformer_encoder(inputs, head_size, num_heads, ff_dim, dropout=0):\n",
    "\n",
    "    x = layers.LayerNormalization(epsilon=1e-6)(inputs)\n",
    "    x = layers.MultiHeadAttention(\n",
    "        key_dim=head_size, num_heads=num_heads, dropout=dropout\n",
    "    )(x, x)\n",
    "    x = layers.Dropout(dropout)(x)\n",
    "    res = x + inputs\n",
    "\n",
    "    x = layers.LayerNormalization(epsilon=1e-6)(res)\n",
    "    x = layers.Conv1D(filters=ff_dim, kernel_size=1, activation=\"relu\")(x)\n",
    "    x = layers.Dropout(dropout)(x)\n",
    "    x = layers.Conv1D(filters=inputs.shape[-1], kernel_size=1)(x)\n",
    "    return x + res"
   ]
  },
  {
   "cell_type": "code",
   "execution_count": 21,
   "id": "4936768d",
   "metadata": {},
   "outputs": [],
   "source": [
    "def build_model(input_shape, head_size, num_heads, ff_dim, num_transformer_blocks, mlp_units, dropout=0, mlp_dropout=0):\n",
    "    inputs = keras.Input(shape=input_shape)\n",
    "    x = inputs\n",
    "    for _ in range(num_transformer_blocks):\n",
    "        x = transformer_encoder(x, head_size, num_heads, ff_dim, dropout)\n",
    "\n",
    "    x = layers.GlobalAveragePooling1D(data_format=\"channels_first\")(x)\n",
    "    for dim in mlp_units:\n",
    "        x = layers.Dense(dim, activation=\"relu\")(x)\n",
    "        x = layers.Dropout(mlp_dropout)(x)\n",
    "    outputs = layers.Dense(480)(x) # 4주 예측\n",
    "    return keras.Model(inputs, outputs)"
   ]
  },
  {
   "cell_type": "code",
   "execution_count": 22,
   "id": "30a0fc0c",
   "metadata": {},
   "outputs": [],
   "source": [
    "def call_back_set(name, epoch, batch_size):\n",
    "    early_stopping = EarlyStopping(monitor='val_loss', patience=100)\n",
    "\n",
    "    if os.path.exists(f'./check') == False:\n",
    "        os.mkdir(f'./check')\n",
    "\n",
    "    filename = f'./check/{name}-{epoch}-{batch_size}.h5'\n",
    "\n",
    "    checkpoint = ModelCheckpoint(filename,\n",
    "                                 monitor='val_loss',\n",
    "                                 verbose=1,\n",
    "                                 save_best_only=True,\n",
    "                                 save_weights_only=True,\n",
    "                                 mode='auto'\n",
    "                                 )\n",
    "    return [early_stopping, checkpoint]"
   ]
  },
  {
   "cell_type": "code",
   "execution_count": 25,
   "id": "fdf5ff1c",
   "metadata": {},
   "outputs": [],
   "source": [
    "def train(x_train, y_train, x_val, y_val, name, epoch, batch_size, learning_rate = 0.001, verbose = 1):\n",
    "\n",
    "\n",
    "    model = build_model(\n",
    "    x_train.shape[1:],\n",
    "    head_size=256,\n",
    "    num_heads=4,\n",
    "    ff_dim=4,\n",
    "    num_transformer_blocks=4,\n",
    "    mlp_units=[128],\n",
    "    mlp_dropout=0.4,\n",
    "    dropout=0.25,\n",
    "    )\n",
    "\n",
    "    model.compile(\n",
    "        loss=\"mean_squared_error\",\n",
    "        optimizer=keras.optimizers.Adam(learning_rate=learning_rate)\n",
    "    )\n",
    "\n",
    "\n",
    "    # Train the model\n",
    "    with tf.device('/device:GPU:0'):\n",
    "        history1 = model.fit(\n",
    "            x_train, y_train,\n",
    "            epochs = epoch,\n",
    "            steps_per_epoch=len(x_train) / batch_size,\n",
    "            batch_size=batch_size,\n",
    "            validation_data=(x_val, y_val),\n",
    "            validation_steps=len(x_val) / batch_size,\n",
    "            shuffle=False,\n",
    "            callbacks=call_back_set(name, epoch, batch_size),\n",
    "            verbose=verbose)\n",
    "\n",
    "    return model"
   ]
  },
  {
   "cell_type": "code",
   "execution_count": 26,
   "id": "db73f6eb",
   "metadata": {},
   "outputs": [],
   "source": [
    "def time_window(df, t, t_sep):\n",
    "    seq_len = t\n",
    "    seqence_length = seq_len + t_sep\n",
    "\n",
    "    result = []\n",
    "    for index in tqdm(range(len(df) - seqence_length)):\n",
    "        result.append(df[index: index + seqence_length].values)\n",
    "\n",
    "    return np.array(result)"
   ]
  },
  {
   "cell_type": "code",
   "execution_count": 27,
   "id": "b7b095ef",
   "metadata": {},
   "outputs": [],
   "source": [
    "epoch = 1000\n",
    "batch = 15"
   ]
  },
  {
   "cell_type": "code",
   "execution_count": 42,
   "id": "27764f6b",
   "metadata": {},
   "outputs": [
    {
     "ename": "IndentationError",
     "evalue": "unexpected indent (3101498004.py, line 2)",
     "output_type": "error",
     "traceback": [
      "\u001b[0;36m  Input \u001b[0;32mIn [42]\u001b[0;36m\u001b[0m\n\u001b[0;31m    transformer = train(astype_data(x_train), y_train, astype_data(x_val), y_val, f'transformer-{df_number}', epoch,\u001b[0m\n\u001b[0m    ^\u001b[0m\n\u001b[0;31mIndentationError\u001b[0m\u001b[0;31m:\u001b[0m unexpected indent\n"
     ]
    }
   ],
   "source": [
    "# transformer 모델 훈련\n",
    "    transformer = train(astype_data(x_train), y_train, astype_data(x_val), y_val, f'transformer-{df_number}, epoch,\n",
    "                        batch)\n",
    "    transformer.load_weights(f'./check/transformer-{df_number}-{epoch}-{batch}.h5')\n",
    "\n",
    "    if os.path.exists(f'./model') == False:\n",
    "        os.mkdir(f'./model')\n",
    "\n",
    "    # 모델 저장\n",
    "    transformer.save(f'./model/transformer-{df_number}-{epoch}-{batch}.h5')"
   ]
  },
  {
   "cell_type": "code",
   "execution_count": null,
   "id": "4e9ff545",
   "metadata": {},
   "outputs": [],
   "source": [
    "# 해당하는 모델 불러오기\n",
    "        model_test = tf.keras.models.load_model(f'./model/transformer-{file_number}-{epoch}-{batch}.h5')\n",
    "        pred = model_test.predict(df_test)"
   ]
  }
 ],
 "metadata": {
  "kernelspec": {
   "display_name": "Python 3 (ipykernel)",
   "language": "python",
   "name": "python3"
  },
  "language_info": {
   "codemirror_mode": {
    "name": "ipython",
    "version": 3
   },
   "file_extension": ".py",
   "mimetype": "text/x-python",
   "name": "python",
   "nbconvert_exporter": "python",
   "pygments_lexer": "ipython3",
   "version": "3.9.12"
  }
 },
 "nbformat": 4,
 "nbformat_minor": 5
}
