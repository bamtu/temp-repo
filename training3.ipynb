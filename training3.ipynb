{
 "cells": [
  {
   "cell_type": "code",
   "execution_count": 2,
   "id": "74945037",
   "metadata": {},
   "outputs": [
    {
     "name": "stderr",
     "output_type": "stream",
     "text": [
      "/home/competition/anaconda3/lib/python3.9/site-packages/xgboost/compat.py:36: FutureWarning: pandas.Int64Index is deprecated and will be removed from pandas in a future version. Use pandas.Index with the appropriate dtype instead.\n",
      "  from pandas import MultiIndex, Int64Index\n"
     ]
    }
   ],
   "source": [
    "import pandas as pd\n",
    "import numpy as np\n",
    "from sklearn.model_selection import train_test_split\n",
    "from xgboost import XGBClassifier\n",
    "import xgboost as xgb\n",
    "from sklearn.metrics import mean_squared_error, mean_absolute_error\n",
    "import matplotlib.pyplot as plt\n",
    "\n",
    "df = pd.read_csv(\"data/training_data/preprocessed_180_1.csv\")\n",
    "\n",
    "def evaluate_regr(y, pred):\n",
    "    rmse_val = rmse(y, pred)\n",
    "    print('RMSE: ', rmse_val)\n",
    "    \n",
    "def rmse(y, pred):\n",
    "    return np.sqrt(mean_squared_error(y, pred))\n",
    "\n",
    "y_target = df['Dindex']\n",
    "X_features = df.drop(['Dindex', 'Unnamed: 0','Unnamed: 0.1', 'Unnamed: 0.2'], axis=1, inplace=False)\n"
   ]
  },
  {
   "cell_type": "code",
   "execution_count": 108,
   "id": "1128e1d8",
   "metadata": {},
   "outputs": [
    {
     "name": "stdout",
     "output_type": "stream",
     "text": [
      "RMSE:  1.0\n"
     ]
    }
   ],
   "source": [
    "from sklearn.discriminant_analysis import LinearDiscriminantAnalysis\n",
    "\n",
    "input_var = ['proton_density', 'proton_speed','proton_temperature','bz_gsm', 'bt']\n",
    "input_X = X_features[input_var]\n",
    "X_train, X_test, y_train, y_test = train_test_split(input_X, y_target, test_size=0.00001, random_state=0)\n",
    "\n",
    "xgbc = LinearDiscriminantAnalysis()\n",
    "xgbc.fit(X_train, y_train)\n",
    "pred = xgbc.predict(X_test)\n",
    "\n",
    "evaluate_regr(y_test, pred)"
   ]
  },
  {
   "cell_type": "code",
   "execution_count": 109,
   "id": "b2c873c8",
   "metadata": {},
   "outputs": [],
   "source": [
    "submission = pd.read_csv('data/quiz/preprocessed.csv')\n",
    "# submission = submission.drop(['Unnamed: 0'], axis=1, inplace=False)\n",
    "submission = submission[input_var]\n",
    "pred = xgbc.predict(submission)\n",
    "submission['Dindex'] = pred\n",
    "submission[240:]['Dindex'].to_csv(\"data/submit.csv\", index = False)"
   ]
  }
 ],
 "metadata": {
  "kernelspec": {
   "display_name": "Python 3 (ipykernel)",
   "language": "python",
   "name": "python3"
  },
  "language_info": {
   "codemirror_mode": {
    "name": "ipython",
    "version": 3
   },
   "file_extension": ".py",
   "mimetype": "text/x-python",
   "name": "python",
   "nbconvert_exporter": "python",
   "pygments_lexer": "ipython3",
   "version": "3.9.12"
  }
 },
 "nbformat": 4,
 "nbformat_minor": 5
}
